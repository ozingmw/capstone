{
 "cells": [
  {
   "cell_type": "code",
   "execution_count": 2,
   "metadata": {},
   "outputs": [
    {
     "data": {
      "text/plain": [
       "(310    프리랜서로 일하면서 요즘 일이 없는데 가족들은 내가 열심히 하지 않은 탓이라고 해서...\n",
       " 311     오늘 은퇴하고 왔는데 가족들이 그동안 고생했다며 나를 격려해주지 않아서 마음이 아팠어.\n",
       " 312               앞으로 노후를 위해 준비할 것들이 많은데 의지할 사람은 없고 막막해.\n",
       " 313         얼마 전 은행 계좌를 봤는데 생각보다 모아 둔 돈이 없더라고. 너무 충격이었어.\n",
       " 314     그동안 담배를 너무 많이 피웠나 봐. 이제 와서 내가 모은 돈을 보니 너무 후회가 돼.\n",
       " Name: text, dtype: object,\n",
       " 310    4\n",
       " 311    4\n",
       " 312    4\n",
       " 313    4\n",
       " 314    5\n",
       " Name: label, dtype: int32,\n",
       " label\n",
       " 2    7679\n",
       " 4    7671\n",
       " 3    7661\n",
       " 5    7564\n",
       " 1    7424\n",
       " 0    4695\n",
       " Name: count, dtype: int64)"
      ]
     },
     "execution_count": 2,
     "metadata": {},
     "output_type": "execute_result"
    }
   ],
   "source": [
    "import os\n",
    "import pandas as pd\n",
    "\n",
    "path = os.getcwd()\n",
    "\n",
    "train_data = pd.read_csv(\"../../datasets/train.csv\", index_col = 0, encoding = 'utf-8')\n",
    "\n",
    "train_data.dropna(inplace = True)\n",
    "train_data.drop(['감정_소분류','시스템문장1','시스템문장2','시스템문장3', '사람문장2', '사람문장3', '신체질환'], axis=1, inplace=True)\n",
    "train_data.rename({'사람문장1':'text', '감정_대분류':'label'}, axis=1, inplace=True)\n",
    "\n",
    "from sklearn.preprocessing import LabelEncoder\n",
    "\n",
    "label_encoder = LabelEncoder()\n",
    "train_data['label'] = label_encoder.fit_transform(train_data['label'])\n",
    "\n",
    "X_train = train_data['text']\n",
    "y_train = train_data['label']\n",
    "\n",
    "X_train[5:10], y_train[5:10], y_train.value_counts()"
   ]
  },
  {
   "cell_type": "code",
   "execution_count": 4,
   "metadata": {},
   "outputs": [],
   "source": [
    "# Load model directly\n",
    "from transformers import AutoTokenizer, DistilBertModel\n",
    "\n",
    "tokenizer = AutoTokenizer.from_pretrained(\"distilbert/distilbert-base-multilingual-cased\")\n",
    "model = DistilBertModel.from_pretrained(\"distilbert/distilbert-base-multilingual-cased\")"
   ]
  },
  {
   "cell_type": "code",
   "execution_count": 5,
   "metadata": {},
   "outputs": [
    {
     "data": {
      "text/plain": [
       "DistilBertModel(\n",
       "  (embeddings): Embeddings(\n",
       "    (word_embeddings): Embedding(119547, 768, padding_idx=0)\n",
       "    (position_embeddings): Embedding(512, 768)\n",
       "    (LayerNorm): LayerNorm((768,), eps=1e-12, elementwise_affine=True)\n",
       "    (dropout): Dropout(p=0.1, inplace=False)\n",
       "  )\n",
       "  (transformer): Transformer(\n",
       "    (layer): ModuleList(\n",
       "      (0-5): 6 x TransformerBlock(\n",
       "        (attention): MultiHeadSelfAttention(\n",
       "          (dropout): Dropout(p=0.1, inplace=False)\n",
       "          (q_lin): Linear(in_features=768, out_features=768, bias=True)\n",
       "          (k_lin): Linear(in_features=768, out_features=768, bias=True)\n",
       "          (v_lin): Linear(in_features=768, out_features=768, bias=True)\n",
       "          (out_lin): Linear(in_features=768, out_features=768, bias=True)\n",
       "        )\n",
       "        (sa_layer_norm): LayerNorm((768,), eps=1e-12, elementwise_affine=True)\n",
       "        (ffn): FFN(\n",
       "          (dropout): Dropout(p=0.1, inplace=False)\n",
       "          (lin1): Linear(in_features=768, out_features=3072, bias=True)\n",
       "          (lin2): Linear(in_features=3072, out_features=768, bias=True)\n",
       "          (activation): GELUActivation()\n",
       "        )\n",
       "        (output_layer_norm): LayerNorm((768,), eps=1e-12, elementwise_affine=True)\n",
       "      )\n",
       "    )\n",
       "  )\n",
       ")"
      ]
     },
     "execution_count": 5,
     "metadata": {},
     "output_type": "execute_result"
    }
   ],
   "source": [
    "model.train()"
   ]
  },
  {
   "cell_type": "code",
   "execution_count": 6,
   "metadata": {},
   "outputs": [],
   "source": [
    "text = list(X_train)[:3]\n",
    "encoded_input = tokenizer.batch_encode_plus(text, return_tensors='pt', padding=True)\n",
    "output = model(**encoded_input)"
   ]
  },
  {
   "cell_type": "code",
   "execution_count": 7,
   "metadata": {},
   "outputs": [
    {
     "data": {
      "text/plain": [
       "{'input_ids': tensor([[   101,   9706,  40032,  18382,  10028,  27023,  14153,   9641, 119424,\n",
       "          41850,   9632, 119362,  70146,   9089,  10739,  39218,  11664,   9952,\n",
       "          25503,   9651,  21155,  10739,   9993,  11513,   8996,  12424,   9414,\n",
       "          60469,  11513,   9322, 119118,  12965,    119,    102,      0],\n",
       "        [   101,   9781,  17196,  11102, 119351,   9632, 119362,  14843,   8863,\n",
       "          59894,   9545,  12310, 119424,  54141,  25503,   9531,  11467,    100,\n",
       "           9266,  11664,   9408,   8863, 118728,  30936,   9379, 119170,  54141,\n",
       "          59894,    119,   8932,  37712,  10739,    100,    119,    102],\n",
       "        [   101,   9781,  17196,  11102, 119351,   9632, 119362,  14102,  11664,\n",
       "           9965,  54141,  25503,   8924,  14153,   9251,  43739,  54780,   8863,\n",
       "         118728,  21406,   8985,   9954,  71013,  11102,   9405,  61250,   9773,\n",
       "          37568,  70146,   9425,  21614, 119424,  12965,    119,    102]]), 'attention_mask': tensor([[1, 1, 1, 1, 1, 1, 1, 1, 1, 1, 1, 1, 1, 1, 1, 1, 1, 1, 1, 1, 1, 1, 1, 1,\n",
       "         1, 1, 1, 1, 1, 1, 1, 1, 1, 1, 0],\n",
       "        [1, 1, 1, 1, 1, 1, 1, 1, 1, 1, 1, 1, 1, 1, 1, 1, 1, 1, 1, 1, 1, 1, 1, 1,\n",
       "         1, 1, 1, 1, 1, 1, 1, 1, 1, 1, 1],\n",
       "        [1, 1, 1, 1, 1, 1, 1, 1, 1, 1, 1, 1, 1, 1, 1, 1, 1, 1, 1, 1, 1, 1, 1, 1,\n",
       "         1, 1, 1, 1, 1, 1, 1, 1, 1, 1, 1]])}"
      ]
     },
     "execution_count": 7,
     "metadata": {},
     "output_type": "execute_result"
    }
   ],
   "source": [
    "encoded_input"
   ]
  },
  {
   "cell_type": "code",
   "execution_count": 11,
   "metadata": {},
   "outputs": [
    {
     "data": {
      "text/plain": [
       "BaseModelOutput(last_hidden_state=tensor([[[ 0.0864, -0.0049, -0.1367,  ...,  0.2188,  0.0968, -0.0684],\n",
       "         [ 0.2903, -0.5238, -0.1615,  ..., -0.1489,  0.1981,  0.2658],\n",
       "         [ 0.8242, -0.3524, -0.3196,  ...,  0.2147,  0.2687,  0.2642],\n",
       "         ...,\n",
       "         [ 0.2685, -0.2062, -0.3115,  ...,  0.4174,  0.2080,  0.0268],\n",
       "         [ 0.3146, -0.3206, -0.1635,  ...,  0.3678,  0.2458, -0.0294],\n",
       "         [ 0.3456, -0.2416, -0.0509,  ...,  0.4382,  0.2358,  0.0097]],\n",
       "\n",
       "        [[ 0.1233, -0.0537, -0.0849,  ...,  0.1495,  0.1344, -0.0527],\n",
       "         [-0.1766, -0.2488, -0.3115,  ...,  0.4022, -0.0260,  0.3715],\n",
       "         [ 0.0786, -0.3074,  0.0587,  ...,  0.6179,  0.2107,  0.2963],\n",
       "         ...,\n",
       "         [ 0.4306, -0.2358, -0.1010,  ...,  0.4943,  0.1669, -0.1255],\n",
       "         [ 0.4203, -0.2828, -0.2641,  ...,  0.2283,  0.1687,  0.0709],\n",
       "         [ 0.4072, -0.3443,  0.1213,  ...,  0.1163,  0.1596,  0.0868]],\n",
       "\n",
       "        [[ 0.1954,  0.0363, -0.0357,  ...,  0.2697,  0.0751, -0.0506],\n",
       "         [-0.2745, -0.2273, -0.1751,  ...,  0.4969,  0.2850,  0.1499],\n",
       "         [-0.2342, -0.4191,  0.0914,  ...,  0.7703,  0.1823,  0.1880],\n",
       "         ...,\n",
       "         [ 0.3908,  0.1067, -0.5163,  ...,  0.5195,  0.1996,  0.1446],\n",
       "         [ 0.4389, -0.2958, -0.1054,  ...,  0.4135,  0.0735,  0.2133],\n",
       "         [ 0.4025, -0.2579,  0.1132,  ...,  0.3862,  0.2088,  0.0669]]],\n",
       "       grad_fn=<NativeLayerNormBackward0>), hidden_states=None, attentions=None)"
      ]
     },
     "execution_count": 11,
     "metadata": {},
     "output_type": "execute_result"
    }
   ],
   "source": [
    "output"
   ]
  },
  {
   "cell_type": "code",
   "execution_count": 10,
   "metadata": {},
   "outputs": [
    {
     "data": {
      "text/plain": [
       "torch.Size([3, 35, 768])"
      ]
     },
     "execution_count": 10,
     "metadata": {},
     "output_type": "execute_result"
    }
   ],
   "source": [
    "output.last_hidden_state.shape"
   ]
  },
  {
   "cell_type": "code",
   "execution_count": null,
   "metadata": {},
   "outputs": [],
   "source": [
    "# last_hidden_state에 bert와 마찬가지로 classification head를 붙여서 학습시키면 될듯?"
   ]
  }
 ],
 "metadata": {
  "kernelspec": {
   "display_name": "capstone",
   "language": "python",
   "name": "python3"
  },
  "language_info": {
   "codemirror_mode": {
    "name": "ipython",
    "version": 3
   },
   "file_extension": ".py",
   "mimetype": "text/x-python",
   "name": "python",
   "nbconvert_exporter": "python",
   "pygments_lexer": "ipython3",
   "version": "3.11.8"
  }
 },
 "nbformat": 4,
 "nbformat_minor": 2
}
