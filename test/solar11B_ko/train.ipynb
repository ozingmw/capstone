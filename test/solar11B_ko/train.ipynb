{
 "cells": [
  {
   "cell_type": "code",
   "execution_count": 2,
   "metadata": {},
   "outputs": [
    {
     "name": "stderr",
     "output_type": "stream",
     "text": [
      "Loading checkpoint shards:  12%|█▎        | 1/8 [00:05<00:37,  5.31s/it]"
     ]
    }
   ],
   "source": [
    "# Load model directly\n",
    "from transformers import AutoTokenizer, AutoModelForCausalLM\n",
    "\n",
    "tokenizer = AutoTokenizer.from_pretrained(\"beomi/Solar-Ko-Recovery-11B\")\n",
    "model = AutoModelForCausalLM.from_pretrained(\"beomi/Solar-Ko-Recovery-11B\", low_cpu_mem_usage=True)"
   ]
  },
  {
   "cell_type": "code",
   "execution_count": null,
   "metadata": {},
   "outputs": [],
   "source": [
    "prompt = \"\"\"\n",
    "You are an IT expert with comprehensive knowledge about IT. I am a junior in the field. Answer my questions concisely and with 100% accuracy.\n",
    "\n",
    "Junior: Can you explain what cloud computing is?\n",
    "Expert:\n",
    "\"\"\"\n",
    "\n",
    "# 입력 토큰 생성\n",
    "inputs = tokenizer(prompt, return_tensors=\"pt\")\n",
    "\n",
    "# 모델을 통해 입력 토큰 전달하여 출력 생성\n",
    "outputs = model.generate(inputs[\"input_ids\"], max_length=150)\n",
    "\n",
    "# 출력 토큰을 문자열로 변환\n",
    "result = tokenizer.decode(outputs[0], skip_special_tokens=True)\n",
    "\n",
    "# 결과 출력\n",
    "print(result)"
   ]
  },
  {
   "cell_type": "code",
   "execution_count": null,
   "metadata": {},
   "outputs": [],
   "source": []
  }
 ],
 "metadata": {
  "kernelspec": {
   "display_name": "capstone",
   "language": "python",
   "name": "python3"
  },
  "language_info": {
   "codemirror_mode": {
    "name": "ipython",
    "version": 3
   },
   "file_extension": ".py",
   "mimetype": "text/x-python",
   "name": "python",
   "nbconvert_exporter": "python",
   "pygments_lexer": "ipython3",
   "version": "3.10.12"
  }
 },
 "nbformat": 4,
 "nbformat_minor": 2
}
