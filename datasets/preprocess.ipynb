{
 "cells": [
  {
   "cell_type": "code",
   "execution_count": 1,
   "metadata": {},
   "outputs": [],
   "source": [
    "import os\n",
    "import pandas as pd"
   ]
  },
  {
   "cell_type": "code",
   "execution_count": 2,
   "metadata": {},
   "outputs": [],
   "source": [
    "data_root_path = os.path.join(os.getcwd())\n",
    "target = \"preprocessed_data.csv\"\n",
    "df = pd.DataFrame()\n",
    "\n",
    "for data_dir in os.listdir(data_root_path):\n",
    "    datasets_path = os.path.join(data_root_path, data_dir, target)\n",
    "    if os.path.exists(datasets_path):\n",
    "        df = pd.concat([df, pd.read_csv(datasets_path)], ignore_index=True)"
   ]
  },
  {
   "cell_type": "code",
   "execution_count": 3,
   "metadata": {},
   "outputs": [
    {
     "data": {
      "text/html": [
       "<div>\n",
       "<style scoped>\n",
       "    .dataframe tbody tr th:only-of-type {\n",
       "        vertical-align: middle;\n",
       "    }\n",
       "\n",
       "    .dataframe tbody tr th {\n",
       "        vertical-align: top;\n",
       "    }\n",
       "\n",
       "    .dataframe thead th {\n",
       "        text-align: right;\n",
       "    }\n",
       "</style>\n",
       "<table border=\"1\" class=\"dataframe\">\n",
       "  <thead>\n",
       "    <tr style=\"text-align: right;\">\n",
       "      <th></th>\n",
       "      <th>sentence</th>\n",
       "      <th>age</th>\n",
       "      <th>gender</th>\n",
       "      <th>sentiment</th>\n",
       "    </tr>\n",
       "  </thead>\n",
       "  <tbody>\n",
       "    <tr>\n",
       "      <th>0</th>\n",
       "      <td>일은 왜 해도 해도 끝이 없을까? 화가 난다. 그냥 내가 해결하는 게 나아. 남들한...</td>\n",
       "      <td>청년</td>\n",
       "      <td>여성</td>\n",
       "      <td>분노</td>\n",
       "    </tr>\n",
       "    <tr>\n",
       "      <th>1</th>\n",
       "      <td>이번 달에 또 급여가 깎였어! 물가는 오르는데 월급만 자꾸 깎이니까 너무 화가 나....</td>\n",
       "      <td>청년</td>\n",
       "      <td>여성</td>\n",
       "      <td>분노</td>\n",
       "    </tr>\n",
       "    <tr>\n",
       "      <th>2</th>\n",
       "      <td>회사에 신입이 들어왔는데 말투가 거슬려. 그런 애를 매일 봐야 한다고 생각하니까 스...</td>\n",
       "      <td>청년</td>\n",
       "      <td>여성</td>\n",
       "      <td>분노</td>\n",
       "    </tr>\n",
       "    <tr>\n",
       "      <th>3</th>\n",
       "      <td>직장에서 막내라는 이유로 나에게만 온갖 심부름을 시켜. 일도 많은 데 정말 분하고 ...</td>\n",
       "      <td>청년</td>\n",
       "      <td>여성</td>\n",
       "      <td>분노</td>\n",
       "    </tr>\n",
       "    <tr>\n",
       "      <th>4</th>\n",
       "      <td>얼마 전 입사한 신입사원이 나를 무시하는 것 같아서 너무 화가 나. 상사인 나에게 ...</td>\n",
       "      <td>청년</td>\n",
       "      <td>여성</td>\n",
       "      <td>분노</td>\n",
       "    </tr>\n",
       "    <tr>\n",
       "      <th>...</th>\n",
       "      <td>...</td>\n",
       "      <td>...</td>\n",
       "      <td>...</td>\n",
       "      <td>...</td>\n",
       "    </tr>\n",
       "    <tr>\n",
       "      <th>95801</th>\n",
       "      <td>맞아. 나한테만 퉁명스럽고 일을 많이 시키더라고.</td>\n",
       "      <td>23</td>\n",
       "      <td>female</td>\n",
       "      <td>슬픔</td>\n",
       "    </tr>\n",
       "    <tr>\n",
       "      <th>95802</th>\n",
       "      <td>나 엘리베이터에 갇혔어.</td>\n",
       "      <td>23</td>\n",
       "      <td>female</td>\n",
       "      <td>슬픔</td>\n",
       "    </tr>\n",
       "    <tr>\n",
       "      <th>95803</th>\n",
       "      <td>하지만 기분이 나쁜 걸 어떡해?</td>\n",
       "      <td>23</td>\n",
       "      <td>female</td>\n",
       "      <td>슬픔</td>\n",
       "    </tr>\n",
       "    <tr>\n",
       "      <th>95804</th>\n",
       "      <td>자취방 엘리베이턴데 정전인가봐.</td>\n",
       "      <td>23</td>\n",
       "      <td>female</td>\n",
       "      <td>슬픔</td>\n",
       "    </tr>\n",
       "    <tr>\n",
       "      <th>95805</th>\n",
       "      <td>나 드디어 프로젝트 끝났어!</td>\n",
       "      <td>23</td>\n",
       "      <td>female</td>\n",
       "      <td>슬픔</td>\n",
       "    </tr>\n",
       "  </tbody>\n",
       "</table>\n",
       "<p>95806 rows × 4 columns</p>\n",
       "</div>"
      ],
      "text/plain": [
       "                                                sentence age  gender sentiment\n",
       "0      일은 왜 해도 해도 끝이 없을까? 화가 난다. 그냥 내가 해결하는 게 나아. 남들한...  청년      여성        분노\n",
       "1      이번 달에 또 급여가 깎였어! 물가는 오르는데 월급만 자꾸 깎이니까 너무 화가 나....  청년      여성        분노\n",
       "2      회사에 신입이 들어왔는데 말투가 거슬려. 그런 애를 매일 봐야 한다고 생각하니까 스...  청년      여성        분노\n",
       "3      직장에서 막내라는 이유로 나에게만 온갖 심부름을 시켜. 일도 많은 데 정말 분하고 ...  청년      여성        분노\n",
       "4      얼마 전 입사한 신입사원이 나를 무시하는 것 같아서 너무 화가 나. 상사인 나에게 ...  청년      여성        분노\n",
       "...                                                  ...  ..     ...       ...\n",
       "95801                        맞아. 나한테만 퉁명스럽고 일을 많이 시키더라고.  23  female        슬픔\n",
       "95802                                      나 엘리베이터에 갇혔어.  23  female        슬픔\n",
       "95803                                  하지만 기분이 나쁜 걸 어떡해?  23  female        슬픔\n",
       "95804                                  자취방 엘리베이턴데 정전인가봐.  23  female        슬픔\n",
       "95805                                    나 드디어 프로젝트 끝났어!  23  female        슬픔\n",
       "\n",
       "[95806 rows x 4 columns]"
      ]
     },
     "execution_count": 3,
     "metadata": {},
     "output_type": "execute_result"
    }
   ],
   "source": [
    "df"
   ]
  },
  {
   "cell_type": "code",
   "execution_count": 4,
   "metadata": {},
   "outputs": [
    {
     "name": "stdout",
     "output_type": "stream",
     "text": [
      "sentiment\n",
      "슬픔        27454\n",
      "분노        18098\n",
      "불안        13249\n",
      "상처        12636\n",
      "기쁨        11451\n",
      "당황        10891\n",
      "분노, 슬픔      580\n",
      "상처, 슬픔      345\n",
      "분노, 상처      284\n",
      "불안, 슬픔      263\n",
      "기쁨, 슬픔      260\n",
      "당황, 슬픔      102\n",
      "당황, 불안       40\n",
      "분노, 불안       33\n",
      "당황, 분노       24\n",
      "기쁨, 당황       24\n",
      "기쁨, 분노       23\n",
      "당황, 상처       21\n",
      "기쁨, 불안       17\n",
      "불안, 상처        7\n",
      "기쁨, 상처        4\n",
      "Name: count, dtype: int64\n",
      "['분노' '기쁨' '불안' '당황' '슬픔' '상처' '당황, 분노' '분노, 상처' '분노, 슬픔' '불안, 슬픔'\n",
      " '당황, 슬픔' '당황, 상처' '기쁨, 슬픔' '당황, 불안' '상처, 슬픔' '불안, 상처' '기쁨, 불안' '분노, 불안'\n",
      " '기쁨, 분노' '기쁨, 당황' '기쁨, 상처']\n",
      "21\n"
     ]
    }
   ],
   "source": [
    "print(df['sentiment'].value_counts())\n",
    "print(df['sentiment'].unique())\n",
    "print(len(df['sentiment'].unique()))"
   ]
  },
  {
   "cell_type": "code",
   "execution_count": 5,
   "metadata": {},
   "outputs": [],
   "source": [
    "# 모든 감정 사용\n",
    "df.to_csv(f\"./preprocessed_data_{len(df['sentiment'].unique())}.csv\", index=False)"
   ]
  }
 ],
 "metadata": {
  "kernelspec": {
   "display_name": "capstone",
   "language": "python",
   "name": "python3"
  },
  "language_info": {
   "codemirror_mode": {
    "name": "ipython",
    "version": 3
   },
   "file_extension": ".py",
   "mimetype": "text/x-python",
   "name": "python",
   "nbconvert_exporter": "python",
   "pygments_lexer": "ipython3",
   "version": "3.11.9"
  }
 },
 "nbformat": 4,
 "nbformat_minor": 2
}
